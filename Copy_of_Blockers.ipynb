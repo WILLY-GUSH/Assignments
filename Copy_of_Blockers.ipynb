{
  "nbformat": 4,
  "nbformat_minor": 0,
  "metadata": {
    "colab": {
      "provenance": [],
      "include_colab_link": true
    },
    "kernelspec": {
      "name": "python3",
      "display_name": "Python 3"
    },
    "language_info": {
      "name": "python"
    }
  },
  "cells": [
    {
      "cell_type": "markdown",
      "metadata": {
        "id": "view-in-github",
        "colab_type": "text"
      },
      "source": [
        "<a href=\"https://colab.research.google.com/github/WILLY-GUSH/Assignments/blob/master/Copy_of_Blockers.ipynb\" target=\"_parent\"><img src=\"https://colab.research.google.com/assets/colab-badge.svg\" alt=\"Open In Colab\"/></a>"
      ]
    },
    {
      "cell_type": "markdown",
      "source": [
        "<font color=\"green\">*To start working on this notebook, or any other notebook that we will use in this course, we will need to save our own copy of it. We can do this by clicking File > Save a Copy in Drive. We will then be able to make edits to our own copy of this notebook.*</font>\n",
        "\n",
        "---\n",
        "\n"
      ],
      "metadata": {
        "id": "2_H4I58lpNlh"
      }
    },
    {
      "cell_type": "markdown",
      "source": [
        "# Variables"
      ],
      "metadata": {
        "id": "anpzOOWXstwZ"
      }
    },
    {
      "cell_type": "code",
      "source": [
        "# example - string\n",
        "name = \"Antonny\"\n",
        "print(name)"
      ],
      "metadata": {
        "id": "qf0wZXd_sHi0",
        "colab": {
          "base_uri": "https://localhost:8080/"
        },
        "outputId": "1576a03c-c03f-483f-c14d-a80b519e193a"
      },
      "execution_count": null,
      "outputs": [
        {
          "output_type": "stream",
          "name": "stdout",
          "text": [
            "Antonny\n"
          ]
        }
      ]
    },
    {
      "cell_type": "code",
      "source": [
        "# example 2\n",
        "first_number = 100\n",
        "second_number = 60\n",
        "\n",
        "total = first_number + second_number # variable that stores summation of first_number and second_number\n",
        "# display total\n",
        "print(total)"
      ],
      "metadata": {
        "colab": {
          "base_uri": "https://localhost:8080/"
        },
        "id": "G8q8KV7PtCb4",
        "outputId": "330a9430-3865-49f5-94e6-a195a29161a0"
      },
      "execution_count": null,
      "outputs": [
        {
          "output_type": "stream",
          "name": "stdout",
          "text": [
            "160\n"
          ]
        }
      ]
    },
    {
      "cell_type": "code",
      "source": [
        "# example 3\n",
        "condition = True\n",
        "\n",
        "print(condition)"
      ],
      "metadata": {
        "colab": {
          "base_uri": "https://localhost:8080/"
        },
        "id": "_FF0LDpmtYvk",
        "outputId": "faeecb3d-d138-4bd7-c2e5-4b1eb975a9a5"
      },
      "execution_count": null,
      "outputs": [
        {
          "output_type": "stream",
          "name": "stdout",
          "text": [
            "True\n"
          ]
        }
      ]
    },
    {
      "cell_type": "code",
      "source": [
        "# example\n",
        "name_1 = \"Moringa\"\n",
        "name_2 = \"School\""
      ],
      "metadata": {
        "id": "Ds4dSB84uEFj"
      },
      "execution_count": null,
      "outputs": []
    },
    {
      "cell_type": "code",
      "source": [
        "first name = \"Antonny\""
      ],
      "metadata": {
        "colab": {
          "base_uri": "https://localhost:8080/",
          "height": 109
        },
        "id": "1SL_P8i2uXqy",
        "outputId": "4859f4ef-60fc-4bb1-d972-7c286cf914a0"
      },
      "execution_count": null,
      "outputs": [
        {
          "output_type": "error",
          "ename": "SyntaxError",
          "evalue": "invalid syntax (<ipython-input-5-48aff67fb91c>, line 1)",
          "traceback": [
            "\u001b[0;36m  File \u001b[0;32m\"<ipython-input-5-48aff67fb91c>\"\u001b[0;36m, line \u001b[0;32m1\u001b[0m\n\u001b[0;31m    first name = \"Antonny\"\u001b[0m\n\u001b[0m          ^\u001b[0m\n\u001b[0;31mSyntaxError\u001b[0m\u001b[0;31m:\u001b[0m invalid syntax\n"
          ]
        }
      ]
    },
    {
      "cell_type": "markdown",
      "source": [
        "# Data types"
      ],
      "metadata": {
        "id": "zzVkahg5vCuP"
      }
    },
    {
      "cell_type": "markdown",
      "source": [
        "## Strings"
      ],
      "metadata": {
        "id": "AplQLcSfvRZu"
      }
    },
    {
      "cell_type": "code",
      "source": [
        "first_name = \"Antonny\"\n",
        "second_name = \"Muiko\"\n",
        "\n",
        "type(first_name)"
      ],
      "metadata": {
        "colab": {
          "base_uri": "https://localhost:8080/"
        },
        "id": "h68ddQ6tukCp",
        "outputId": "09b97d63-223f-4c65-9851-f06c28b0a164"
      },
      "execution_count": null,
      "outputs": [
        {
          "output_type": "execute_result",
          "data": {
            "text/plain": [
              "str"
            ]
          },
          "metadata": {},
          "execution_count": 7
        }
      ]
    },
    {
      "cell_type": "code",
      "source": [
        "school_name = 'Moringa School'\n",
        "type(school_name)"
      ],
      "metadata": {
        "colab": {
          "base_uri": "https://localhost:8080/"
        },
        "id": "dIqiENwmvNA4",
        "outputId": "5fe4fe3c-f954-43ca-8d56-08075e8e9407"
      },
      "execution_count": null,
      "outputs": [
        {
          "output_type": "execute_result",
          "data": {
            "text/plain": [
              "str"
            ]
          },
          "metadata": {},
          "execution_count": 8
        }
      ]
    },
    {
      "cell_type": "code",
      "source": [
        "animal = \"ng'ombe\"\n",
        "print(animal)"
      ],
      "metadata": {
        "colab": {
          "base_uri": "https://localhost:8080/"
        },
        "id": "MSWfruE4vlzO",
        "outputId": "550f2767-03ec-44d9-d2bd-1886ab491381"
      },
      "execution_count": null,
      "outputs": [
        {
          "output_type": "stream",
          "name": "stdout",
          "text": [
            "ng'ombe\n"
          ]
        }
      ]
    },
    {
      "cell_type": "code",
      "source": [
        "quote = \"Wiston churchil said, 'beautiful is better than ugly'.\"\n",
        "print(quote)"
      ],
      "metadata": {
        "colab": {
          "base_uri": "https://localhost:8080/"
        },
        "id": "-OZBxAspwEZo",
        "outputId": "e6fc22a4-6eaf-471e-f44e-f06b72826505"
      },
      "execution_count": null,
      "outputs": [
        {
          "output_type": "stream",
          "name": "stdout",
          "text": [
            "Wiston churchil said, 'beautiful is better than ugly'.\n"
          ]
        }
      ]
    },
    {
      "cell_type": "code",
      "source": [
        "welcome_message = \"Hello Antonny, Welcome to moringa school.\"\n",
        "welcome_message = \"Hello Ivy, Welcome to moringa school.\""
      ],
      "metadata": {
        "id": "FsTP0XS7wWKu"
      },
      "execution_count": null,
      "outputs": []
    },
    {
      "cell_type": "code",
      "source": [
        "# formating strings\n",
        "welcome = f\"Hello {first_name} {second_name}, welcome to moringa school.\"\n",
        "\n",
        "print(welcome)"
      ],
      "metadata": {
        "colab": {
          "base_uri": "https://localhost:8080/"
        },
        "id": "Q4ilZBmtwqMU",
        "outputId": "338fd0b0-c278-4840-803e-acbf9ab94ecb"
      },
      "execution_count": null,
      "outputs": [
        {
          "output_type": "stream",
          "name": "stdout",
          "text": [
            "Hello Antonny Muiko, welcome to moringa school.\n"
          ]
        }
      ]
    },
    {
      "cell_type": "code",
      "source": [
        "# format\n",
        "welcome2 = \"Hello {} {}, welcome to moringa school\".format(first_name, second_name)\n",
        "\n",
        "print(welcome2)"
      ],
      "metadata": {
        "colab": {
          "base_uri": "https://localhost:8080/"
        },
        "id": "BR1pGrpRxPHE",
        "outputId": "02d23dbd-23dc-4147-904a-1ce13ffd52bc"
      },
      "execution_count": null,
      "outputs": [
        {
          "output_type": "stream",
          "name": "stdout",
          "text": [
            "Hello Antonny Muiko, welcome to moringa school\n"
          ]
        }
      ]
    },
    {
      "cell_type": "code",
      "source": [
        "# concat\n",
        "welcome3 = \"Hello \" + first_name + \" \" +second_name + \" welcome to moringa school.\"\n",
        "print(welcome3)"
      ],
      "metadata": {
        "colab": {
          "base_uri": "https://localhost:8080/"
        },
        "id": "sbDGn745xe2j",
        "outputId": "70f804c2-3d4a-45d5-b5b2-13a7ace366be"
      },
      "execution_count": null,
      "outputs": [
        {
          "output_type": "stream",
          "name": "stdout",
          "text": [
            "Hello Antonny Muiko welcome to moringa school.\n"
          ]
        }
      ]
    },
    {
      "cell_type": "code",
      "source": [
        "age = 20\n",
        "\n",
        "type(age)"
      ],
      "metadata": {
        "colab": {
          "base_uri": "https://localhost:8080/"
        },
        "id": "0MfQnhlzyF2j",
        "outputId": "99770e3b-975a-4911-e9f8-ef0c04ceefa4"
      },
      "execution_count": null,
      "outputs": [
        {
          "output_type": "execute_result",
          "data": {
            "text/plain": [
              "int"
            ]
          },
          "metadata": {},
          "execution_count": 19
        }
      ]
    },
    {
      "cell_type": "code",
      "source": [
        "# concat int and string\n",
        "introduction = \"Hello, my name is \" + first_name + \", I am \" + str(age) # converting age from int to string\n",
        "\n",
        "print(introduction)"
      ],
      "metadata": {
        "colab": {
          "base_uri": "https://localhost:8080/"
        },
        "id": "8xnbO9uJzZlj",
        "outputId": "328cdb43-497c-4a12-fee3-2901787c309e"
      },
      "execution_count": null,
      "outputs": [
        {
          "output_type": "stream",
          "name": "stdout",
          "text": [
            "Hello, my name is Antonny, I am 20\n"
          ]
        }
      ]
    },
    {
      "cell_type": "code",
      "source": [
        "introduction = \"Hello, my name is \" + first_name + \", I am \" + age\n",
        "\n",
        "print(introduction)"
      ],
      "metadata": {
        "colab": {
          "base_uri": "https://localhost:8080/",
          "height": 181
        },
        "id": "0HbshnqpzyFm",
        "outputId": "dff7aadd-aa99-4d49-827d-6d49e9ee587d"
      },
      "execution_count": null,
      "outputs": [
        {
          "output_type": "error",
          "ename": "TypeError",
          "evalue": "can only concatenate str (not \"int\") to str",
          "traceback": [
            "\u001b[0;31m---------------------------------------------------------------------------\u001b[0m",
            "\u001b[0;31mTypeError\u001b[0m                                 Traceback (most recent call last)",
            "\u001b[0;32m<ipython-input-21-e4aa13818b11>\u001b[0m in \u001b[0;36m<cell line: 1>\u001b[0;34m()\u001b[0m\n\u001b[0;32m----> 1\u001b[0;31m \u001b[0mintroduction\u001b[0m \u001b[0;34m=\u001b[0m \u001b[0;34m\"Hello, my name is \"\u001b[0m \u001b[0;34m+\u001b[0m \u001b[0mfirst_name\u001b[0m \u001b[0;34m+\u001b[0m \u001b[0;34m\", I am \"\u001b[0m \u001b[0;34m+\u001b[0m \u001b[0mage\u001b[0m\u001b[0;34m\u001b[0m\u001b[0;34m\u001b[0m\u001b[0m\n\u001b[0m\u001b[1;32m      2\u001b[0m \u001b[0;34m\u001b[0m\u001b[0m\n\u001b[1;32m      3\u001b[0m \u001b[0mprint\u001b[0m\u001b[0;34m(\u001b[0m\u001b[0mintroduction\u001b[0m\u001b[0;34m)\u001b[0m\u001b[0;34m\u001b[0m\u001b[0;34m\u001b[0m\u001b[0m\n",
            "\u001b[0;31mTypeError\u001b[0m: can only concatenate str (not \"int\") to str"
          ]
        }
      ]
    },
    {
      "cell_type": "code",
      "source": [
        "# using f strings\n",
        "introduction = f\"Hello, my name is {first_name}, I am {age} years\"\n",
        "\n",
        "print(introduction)"
      ],
      "metadata": {
        "colab": {
          "base_uri": "https://localhost:8080/"
        },
        "id": "fzIRZSedz3XO",
        "outputId": "624a298d-dce7-442e-e912-b958c0e59fec"
      },
      "execution_count": null,
      "outputs": [
        {
          "output_type": "stream",
          "name": "stdout",
          "text": [
            "Hello, my name is Antonny, I am 20 years\n"
          ]
        }
      ]
    },
    {
      "cell_type": "markdown",
      "source": [
        "## int"
      ],
      "metadata": {
        "id": "mUMgdq81_4W4"
      }
    },
    {
      "cell_type": "code",
      "source": [
        "type(9)"
      ],
      "metadata": {
        "colab": {
          "base_uri": "https://localhost:8080/"
        },
        "id": "-LDhNORc_3Cr",
        "outputId": "1a758994-5549-4e50-8600-a0a04cec3804"
      },
      "execution_count": null,
      "outputs": [
        {
          "output_type": "execute_result",
          "data": {
            "text/plain": [
              "int"
            ]
          },
          "metadata": {},
          "execution_count": 63
        }
      ]
    },
    {
      "cell_type": "code",
      "source": [
        "type(45)"
      ],
      "metadata": {
        "colab": {
          "base_uri": "https://localhost:8080/"
        },
        "id": "OUE2-WeVAAfh",
        "outputId": "a80fcb78-3ecc-40a2-d959-73210f5bb764"
      },
      "execution_count": null,
      "outputs": [
        {
          "output_type": "execute_result",
          "data": {
            "text/plain": [
              "int"
            ]
          },
          "metadata": {},
          "execution_count": 64
        }
      ]
    },
    {
      "cell_type": "code",
      "source": [
        "type(age)"
      ],
      "metadata": {
        "colab": {
          "base_uri": "https://localhost:8080/"
        },
        "id": "vPNbrfDLADBT",
        "outputId": "55383a91-131d-4bc4-e368-1172bfd0cc19"
      },
      "execution_count": null,
      "outputs": [
        {
          "output_type": "execute_result",
          "data": {
            "text/plain": [
              "int"
            ]
          },
          "metadata": {},
          "execution_count": 65
        }
      ]
    },
    {
      "cell_type": "markdown",
      "source": [
        "## float"
      ],
      "metadata": {
        "id": "H4BPkhwvAOUZ"
      }
    },
    {
      "cell_type": "code",
      "source": [
        "type(4.0)"
      ],
      "metadata": {
        "colab": {
          "base_uri": "https://localhost:8080/"
        },
        "id": "FQ7hsHi-AN0f",
        "outputId": "4fb3a546-f40e-43e1-fea3-3a4478ef3f59"
      },
      "execution_count": null,
      "outputs": [
        {
          "output_type": "execute_result",
          "data": {
            "text/plain": [
              "float"
            ]
          },
          "metadata": {},
          "execution_count": 66
        }
      ]
    },
    {
      "cell_type": "code",
      "source": [
        "type(99.99999999999999)"
      ],
      "metadata": {
        "colab": {
          "base_uri": "https://localhost:8080/"
        },
        "id": "XXEQ6qywASMP",
        "outputId": "12ce372e-c45a-4f33-c616-a49c4135fb0a"
      },
      "execution_count": null,
      "outputs": [
        {
          "output_type": "execute_result",
          "data": {
            "text/plain": [
              "float"
            ]
          },
          "metadata": {},
          "execution_count": 67
        }
      ]
    },
    {
      "cell_type": "markdown",
      "source": [
        "### Arithmetic operators"
      ],
      "metadata": {
        "id": "GD56M7Q1CwUr"
      }
    },
    {
      "cell_type": "code",
      "source": [
        "6 + 5"
      ],
      "metadata": {
        "colab": {
          "base_uri": "https://localhost:8080/"
        },
        "id": "ovu9ZsYrCd73",
        "outputId": "fa836b46-fd26-4c61-9d87-d80342f222e1"
      },
      "execution_count": null,
      "outputs": [
        {
          "output_type": "execute_result",
          "data": {
            "text/plain": [
              "11"
            ]
          },
          "metadata": {},
          "execution_count": 74
        }
      ]
    },
    {
      "cell_type": "code",
      "source": [
        "10 - 4"
      ],
      "metadata": {
        "colab": {
          "base_uri": "https://localhost:8080/"
        },
        "id": "q2bgglgDC00V",
        "outputId": "28996a39-f33d-4b52-eb7d-300b81ff199b"
      },
      "execution_count": null,
      "outputs": [
        {
          "output_type": "execute_result",
          "data": {
            "text/plain": [
              "6"
            ]
          },
          "metadata": {},
          "execution_count": 75
        }
      ]
    },
    {
      "cell_type": "code",
      "source": [
        "7 * 8"
      ],
      "metadata": {
        "colab": {
          "base_uri": "https://localhost:8080/"
        },
        "id": "548PeKyCC2el",
        "outputId": "528dea30-770f-462f-e38e-8099878f8dfb"
      },
      "execution_count": null,
      "outputs": [
        {
          "output_type": "execute_result",
          "data": {
            "text/plain": [
              "56"
            ]
          },
          "metadata": {},
          "execution_count": 76
        }
      ]
    },
    {
      "cell_type": "code",
      "source": [
        "7 ** 2 # raised to power 2"
      ],
      "metadata": {
        "colab": {
          "base_uri": "https://localhost:8080/"
        },
        "id": "Qujrb3PkC5pn",
        "outputId": "b56d399c-2010-40b0-ef2e-811c1834e679"
      },
      "execution_count": null,
      "outputs": [
        {
          "output_type": "execute_result",
          "data": {
            "text/plain": [
              "49"
            ]
          },
          "metadata": {},
          "execution_count": 78
        }
      ]
    },
    {
      "cell_type": "code",
      "source": [
        "11 / 2"
      ],
      "metadata": {
        "colab": {
          "base_uri": "https://localhost:8080/"
        },
        "id": "dhnXpIalC_uZ",
        "outputId": "787ef532-9287-4bdb-f483-1f5b2cd43fc7"
      },
      "execution_count": null,
      "outputs": [
        {
          "output_type": "execute_result",
          "data": {
            "text/plain": [
              "5.5"
            ]
          },
          "metadata": {},
          "execution_count": 79
        }
      ]
    },
    {
      "cell_type": "code",
      "source": [
        "11 % 2 # rem"
      ],
      "metadata": {
        "colab": {
          "base_uri": "https://localhost:8080/"
        },
        "id": "AHx8r4e-DF6j",
        "outputId": "4b7260da-03b6-4157-9107-c550f60ed6a7"
      },
      "execution_count": null,
      "outputs": [
        {
          "output_type": "execute_result",
          "data": {
            "text/plain": [
              "1"
            ]
          },
          "metadata": {},
          "execution_count": 80
        }
      ]
    },
    {
      "cell_type": "code",
      "source": [
        "11 // 2 # quo"
      ],
      "metadata": {
        "colab": {
          "base_uri": "https://localhost:8080/"
        },
        "id": "DQ9jkhXbDICx",
        "outputId": "6885842c-1147-41b5-d846-3364c5b5703d"
      },
      "execution_count": null,
      "outputs": [
        {
          "output_type": "execute_result",
          "data": {
            "text/plain": [
              "5"
            ]
          },
          "metadata": {},
          "execution_count": 81
        }
      ]
    },
    {
      "cell_type": "code",
      "source": [
        "81 ** 0.5"
      ],
      "metadata": {
        "colab": {
          "base_uri": "https://localhost:8080/"
        },
        "id": "lfka5okQDmV4",
        "outputId": "fb523cba-43c2-4548-93fc-b1cb7e8e5409"
      },
      "execution_count": null,
      "outputs": [
        {
          "output_type": "execute_result",
          "data": {
            "text/plain": [
              "9.0"
            ]
          },
          "metadata": {},
          "execution_count": 82
        }
      ]
    },
    {
      "cell_type": "markdown",
      "source": [
        "## Bool"
      ],
      "metadata": {
        "id": "mYwk3kHX1S8D"
      }
    },
    {
      "cell_type": "markdown",
      "source": [
        "* `<` less than\n",
        "* `>` greater than\n",
        "* `<=` less than or equal to\n",
        "* `>=` greater than or equal to\n",
        "* `==` equals\n",
        "* `!=` equal"
      ],
      "metadata": {
        "id": "6WmWowqc1YCq"
      }
    },
    {
      "cell_type": "code",
      "source": [
        "# less than True\n",
        "(8 < 10)"
      ],
      "metadata": {
        "colab": {
          "base_uri": "https://localhost:8080/"
        },
        "id": "dCggYAKb1UMn",
        "outputId": "69b32c29-3d8e-412b-a3f3-540ee5e68c7e"
      },
      "execution_count": null,
      "outputs": [
        {
          "output_type": "execute_result",
          "data": {
            "text/plain": [
              "True"
            ]
          },
          "metadata": {},
          "execution_count": 24
        }
      ]
    },
    {
      "cell_type": "code",
      "source": [
        "# less than False\n",
        "(8 < 5)"
      ],
      "metadata": {
        "colab": {
          "base_uri": "https://localhost:8080/"
        },
        "id": "ja_NOsns13sy",
        "outputId": "9c290f15-33f0-4af1-e43e-72adaf93a647"
      },
      "execution_count": null,
      "outputs": [
        {
          "output_type": "execute_result",
          "data": {
            "text/plain": [
              "False"
            ]
          },
          "metadata": {},
          "execution_count": 25
        }
      ]
    },
    {
      "cell_type": "code",
      "source": [
        "# greater than\n",
        "(10 > 10)"
      ],
      "metadata": {
        "colab": {
          "base_uri": "https://localhost:8080/"
        },
        "id": "JGHRsF973TWl",
        "outputId": "a2fa782a-6723-46d8-89ba-ac6c9d60f6f5"
      },
      "execution_count": null,
      "outputs": [
        {
          "output_type": "execute_result",
          "data": {
            "text/plain": [
              "False"
            ]
          },
          "metadata": {},
          "execution_count": 30
        }
      ]
    },
    {
      "cell_type": "code",
      "source": [
        "# equals to\n",
        "6 == 6"
      ],
      "metadata": {
        "colab": {
          "base_uri": "https://localhost:8080/"
        },
        "id": "WFkz_1AB3c12",
        "outputId": "b84111cb-67b4-450a-c324-baad9adbe7aa"
      },
      "execution_count": null,
      "outputs": [
        {
          "output_type": "execute_result",
          "data": {
            "text/plain": [
              "True"
            ]
          },
          "metadata": {},
          "execution_count": 31
        }
      ]
    },
    {
      "cell_type": "code",
      "source": [
        "# not eqaul to\n",
        "6 != 10"
      ],
      "metadata": {
        "colab": {
          "base_uri": "https://localhost:8080/"
        },
        "id": "Rix2PEbL3h5F",
        "outputId": "46ad021c-5266-4105-9945-52e81cf49145"
      },
      "execution_count": null,
      "outputs": [
        {
          "output_type": "execute_result",
          "data": {
            "text/plain": [
              "True"
            ]
          },
          "metadata": {},
          "execution_count": 32
        }
      ]
    },
    {
      "cell_type": "markdown",
      "source": [
        "if .. else\n",
        "\n",
        "```\n",
        "if condition:\n",
        "  block to be executed if condition is True\n",
        "else:\n",
        "  block of code to be executed if condition is False\n",
        "```"
      ],
      "metadata": {
        "id": "rJjy4zvX3qRg"
      }
    },
    {
      "cell_type": "code",
      "source": [
        "score = 82\n",
        "\n",
        "if score > 70:\n",
        "  print('Grade = A')\n",
        "else:\n",
        "  print('Grade = B')"
      ],
      "metadata": {
        "colab": {
          "base_uri": "https://localhost:8080/"
        },
        "id": "icEAtjrB1-7G",
        "outputId": "224a67ac-88e0-4faa-e03d-8f8a7fdfae8b"
      },
      "execution_count": null,
      "outputs": [
        {
          "output_type": "stream",
          "name": "stdout",
          "text": [
            "Grade = A\n"
          ]
        }
      ]
    },
    {
      "cell_type": "code",
      "source": [
        "score = 50\n",
        "\n",
        "if score > 70:\n",
        "  print('Grade = A')\n",
        "else:\n",
        "  print('Grade = B')"
      ],
      "metadata": {
        "colab": {
          "base_uri": "https://localhost:8080/"
        },
        "id": "DdGQS8p62RzI",
        "outputId": "85a849ef-1866-4396-cfdb-8ee4f652b780"
      },
      "execution_count": null,
      "outputs": [
        {
          "output_type": "stream",
          "name": "stdout",
          "text": [
            "Grade = B\n"
          ]
        }
      ]
    },
    {
      "cell_type": "markdown",
      "source": [
        "if .. elif.. else\n",
        "\n",
        "```\n",
        "if condition1:\n",
        "  block to be executed if condition1 is True\n",
        "elif condition2:\n",
        "  block of code to be executed if condition2 is True\n",
        "else:\n",
        "  block of code to be executed if condition is False\n",
        "```"
      ],
      "metadata": {
        "id": "l5vSMWK24Qtv"
      }
    },
    {
      "cell_type": "markdown",
      "source": [
        "And\n",
        "\n",
        "|condition 1|condition 2| outcome|\n",
        "|:---------:|:----------:|:-------:|\n",
        "|True|True|True|\n",
        "|True|False|False|\n",
        "|False|True|False|\n",
        "|False|False|False|"
      ],
      "metadata": {
        "id": "4Zxf8q9X4fJV"
      }
    },
    {
      "cell_type": "code",
      "source": [
        "6 > 5 and 7 < 9"
      ],
      "metadata": {
        "colab": {
          "base_uri": "https://localhost:8080/"
        },
        "id": "agJad61_5IH3",
        "outputId": "62c61f40-30e1-498d-ef61-6354848c3e9b"
      },
      "execution_count": null,
      "outputs": [
        {
          "output_type": "execute_result",
          "data": {
            "text/plain": [
              "True"
            ]
          },
          "metadata": {},
          "execution_count": 33
        }
      ]
    },
    {
      "cell_type": "code",
      "source": [
        "6 > 5 and 7 > 9"
      ],
      "metadata": {
        "colab": {
          "base_uri": "https://localhost:8080/"
        },
        "id": "ezi9NhG_5OSO",
        "outputId": "8a6d8c47-4257-470b-d37d-620511cfb8b4"
      },
      "execution_count": null,
      "outputs": [
        {
          "output_type": "execute_result",
          "data": {
            "text/plain": [
              "False"
            ]
          },
          "metadata": {},
          "execution_count": 34
        }
      ]
    },
    {
      "cell_type": "code",
      "source": [
        "7 > 9 and 6 > 5"
      ],
      "metadata": {
        "colab": {
          "base_uri": "https://localhost:8080/"
        },
        "id": "m6mJKxxl5TDh",
        "outputId": "1fffd8c6-de36-40a5-af9b-bab3db0748f6"
      },
      "execution_count": null,
      "outputs": [
        {
          "output_type": "execute_result",
          "data": {
            "text/plain": [
              "False"
            ]
          },
          "metadata": {},
          "execution_count": 35
        }
      ]
    },
    {
      "cell_type": "code",
      "source": [
        "7 > 9 and 6 == 5"
      ],
      "metadata": {
        "colab": {
          "base_uri": "https://localhost:8080/"
        },
        "id": "Nx0Qs-Qf5Zq4",
        "outputId": "a4cab01f-5d09-4a5e-de7a-ae587e1207f6"
      },
      "execution_count": null,
      "outputs": [
        {
          "output_type": "execute_result",
          "data": {
            "text/plain": [
              "False"
            ]
          },
          "metadata": {},
          "execution_count": 36
        }
      ]
    },
    {
      "cell_type": "code",
      "source": [
        "grade = 20\n",
        "if grade >= 70 and grade <= 100:\n",
        "  print(\"A\")\n",
        "elif grade >=60 and grade < 70:\n",
        "  print(\"B\")\n",
        "elif grade >= 50 and grade < 60:\n",
        "  print(\"C\")\n",
        "elif grade >= 40 and grade < 50:\n",
        "  print(\"D\")\n",
        "elif grade < 40 and grade >= 0:\n",
        "  print(\"Fail\")\n",
        "else:\n",
        "  print(\"Invalid grade!\")"
      ],
      "metadata": {
        "colab": {
          "base_uri": "https://localhost:8080/"
        },
        "id": "Wd-t2tsl2eu1",
        "outputId": "a1ee3f61-6f04-44b0-b7f3-0cec186230a5"
      },
      "execution_count": null,
      "outputs": [
        {
          "output_type": "stream",
          "name": "stdout",
          "text": [
            "Fail\n"
          ]
        }
      ]
    },
    {
      "cell_type": "code",
      "source": [
        "course = \"part-time\"\n",
        "grade = 67\n",
        "if course == \"part-time\":\n",
        "  if grade >= 70 and grade <= 100:\n",
        "    print(\"A\")\n",
        "  elif grade >=60 and grade < 70:\n",
        "    print(\"B\")\n",
        "  elif grade >= 50 and grade < 60:\n",
        "    print(\"C\")\n",
        "  elif grade >= 40 and grade < 50:\n",
        "    print(\"D\")\n",
        "  elif grade < 40 and grade >= 0:\n",
        "    print(\"Fail\")\n",
        "  else:\n",
        "    print(\"Invalid grade!\")\n",
        "else:\n",
        "  if grade >= 65 and grade <= 100:\n",
        "    print(\"A\")\n",
        "  elif grade >= 55 and grade < 65:\n",
        "    print(\"B\")\n",
        "  elif grade >= 45 and grade < 55:\n",
        "    print(\"C\")\n",
        "  elif grade >= 35 and grade < 45:\n",
        "    print(\"D\")\n",
        "  elif grade < 35 and grade >= 0:\n",
        "    print(\"Fail\")\n",
        "  else:\n",
        "    print(\"Invalid grade!\")"
      ],
      "metadata": {
        "colab": {
          "base_uri": "https://localhost:8080/"
        },
        "id": "aURZwrO_8qv3",
        "outputId": "3aeb3ec0-046a-45ab-8cbe-c70248dd62ae"
      },
      "execution_count": null,
      "outputs": [
        {
          "output_type": "stream",
          "name": "stdout",
          "text": [
            "B\n"
          ]
        }
      ]
    },
    {
      "cell_type": "markdown",
      "source": [
        "or\n",
        "\n",
        "|condition 1|condition 2| outcome|\n",
        "|:---------:|:----------:|:-------:|\n",
        "|True|True|True|\n",
        "|True|False|True|\n",
        "|False|True|True|\n",
        "|False|False|False|"
      ],
      "metadata": {
        "id": "ayDmiedQ5svj"
      }
    },
    {
      "cell_type": "code",
      "source": [
        "6 > 5 or 7 < 9"
      ],
      "metadata": {
        "colab": {
          "base_uri": "https://localhost:8080/"
        },
        "id": "86Ry-0dp3Ams",
        "outputId": "2df67038-ecd7-4694-a952-037ed9bfb6d0"
      },
      "execution_count": null,
      "outputs": [
        {
          "output_type": "execute_result",
          "data": {
            "text/plain": [
              "True"
            ]
          },
          "metadata": {},
          "execution_count": 40
        }
      ]
    },
    {
      "cell_type": "code",
      "source": [
        "6 > 5 or 7 > 9"
      ],
      "metadata": {
        "colab": {
          "base_uri": "https://localhost:8080/"
        },
        "id": "hdoNeQ2p5z9f",
        "outputId": "602638ca-971a-41ee-b347-b209ce8d07d0"
      },
      "execution_count": null,
      "outputs": [
        {
          "output_type": "execute_result",
          "data": {
            "text/plain": [
              "True"
            ]
          },
          "metadata": {},
          "execution_count": 41
        }
      ]
    },
    {
      "cell_type": "code",
      "source": [
        "7 > 9 or 6 > 5"
      ],
      "metadata": {
        "colab": {
          "base_uri": "https://localhost:8080/"
        },
        "id": "ffG4dxJa52-T",
        "outputId": "a37d4aa3-eff9-44f4-dba5-37fb90e4abec"
      },
      "execution_count": null,
      "outputs": [
        {
          "output_type": "execute_result",
          "data": {
            "text/plain": [
              "True"
            ]
          },
          "metadata": {},
          "execution_count": 42
        }
      ]
    },
    {
      "cell_type": "code",
      "source": [
        "number = None"
      ],
      "metadata": {
        "id": "gSEMJgc15-bl"
      },
      "execution_count": null,
      "outputs": []
    },
    {
      "cell_type": "code",
      "source": [
        "weather = \"rainy\""
      ],
      "metadata": {
        "id": "uof0JJIC3P3n"
      },
      "execution_count": null,
      "outputs": []
    },
    {
      "cell_type": "code",
      "source": [
        "if (weather == \"rainy\"): # full colon indicates the start of the code block to be executed if condition is True\n",
        "  print(\"Carry umbrella\")\n",
        "  print(\"Watch out for the floods if you are from juja\")"
      ],
      "metadata": {
        "id": "MIstXjXiF2j7",
        "colab": {
          "base_uri": "https://localhost:8080/"
        },
        "outputId": "cf4d7a65-d9e6-4080-cbdb-948f50f0d331"
      },
      "execution_count": null,
      "outputs": [
        {
          "output_type": "stream",
          "name": "stdout",
          "text": [
            "Carry umbrella\n",
            "Watch out for the floods if you are from juja\n"
          ]
        }
      ]
    },
    {
      "cell_type": "code",
      "source": [
        "weather = \"sunny\"\n",
        "\n",
        "if (weather == \"rainy\"): # full colon indicates the start of the code block to be executed if condition is True\n",
        "  print(\"Carry umbrella\")\n",
        "  print(\"Watch out for the floods if you are from juja\")\n",
        "else:\n",
        "  print(\"You can have ice cream\")"
      ],
      "metadata": {
        "colab": {
          "base_uri": "https://localhost:8080/"
        },
        "id": "8DE8IeCj4Rmf",
        "outputId": "42ad7071-27ff-47c0-a2b6-4e4129531adf"
      },
      "execution_count": null,
      "outputs": [
        {
          "output_type": "stream",
          "name": "stdout",
          "text": [
            "You can have ice cream\n"
          ]
        }
      ]
    },
    {
      "cell_type": "code",
      "source": [
        "weather = \"rainy\"\n",
        "temperature = 19\n",
        "\n",
        "if (weather == \"rainy\") and (temperature < 18): # full colon indicates the start of the code block to be executed if condition is True\n",
        "  print(\"Carry umbrella\")\n",
        "  print(\"Watch out for the floods if you are from juja\")\n",
        "  print(\"Bring a long a sweater\")\n",
        "else:\n",
        "  print(\"You can have ice cream\")"
      ],
      "metadata": {
        "colab": {
          "base_uri": "https://localhost:8080/"
        },
        "id": "HL0NFfvT40yz",
        "outputId": "78e51fba-4f5f-4666-ddda-399bee60c65e"
      },
      "execution_count": null,
      "outputs": [
        {
          "output_type": "stream",
          "name": "stdout",
          "text": [
            "You can have ice cream\n"
          ]
        }
      ]
    },
    {
      "cell_type": "code",
      "source": [
        "weather = \"cloudy\"\n",
        "if (weather == \"rainy\"): # full colon indicates the start of the code block to be executed if condition is True\n",
        "  print(\"Carry umbrella\")\n",
        "  print(\"Watch out for the floods if you are from juja\")\n",
        "  print(\"Bring a long a sweater\")\n",
        "elif (weather == \"cloudy\"):\n",
        "  print(\"just carry an unmbrella to be safe\")\n",
        "else:\n",
        "  print(\"You can have ice cream\")"
      ],
      "metadata": {
        "colab": {
          "base_uri": "https://localhost:8080/"
        },
        "id": "jadNqww-6jR4",
        "outputId": "7ddbd2ce-ab4b-4f36-fa95-2b4ee7532e10"
      },
      "execution_count": null,
      "outputs": [
        {
          "output_type": "stream",
          "name": "stdout",
          "text": [
            "just carry an unmbrella to be safe\n"
          ]
        }
      ]
    },
    {
      "cell_type": "code",
      "source": [
        "student = {\n",
        "    \"Name\" : \"Kellie Ndaru\",\n",
        "    \"Age\" : 21,\n",
        "    \"Height\": 152,\n",
        "    \"Blood group\": \"O\"\n",
        "}"
      ],
      "metadata": {
        "id": "hGiyiOAU7Ffi"
      },
      "execution_count": null,
      "outputs": []
    },
    {
      "cell_type": "code",
      "source": [
        "print(student.values())\n",
        "print(student.keys())\n",
        "print(student.items())"
      ],
      "metadata": {
        "colab": {
          "base_uri": "https://localhost:8080/"
        },
        "id": "lhTaA4XX7ty2",
        "outputId": "6bd6caf9-7d8f-4e03-be62-7826ae96e098"
      },
      "execution_count": null,
      "outputs": [
        {
          "output_type": "stream",
          "name": "stdout",
          "text": [
            "dict_values(['Kellie Ndaru', 21, 152, 'O'])\n",
            "dict_keys(['Name', 'Age', 'Height', 'Blood group'])\n",
            "dict_items([('Name', 'Kellie Ndaru'), ('Age', 21), ('Height', 152), ('Blood group', 'O')])\n"
          ]
        }
      ]
    },
    {
      "cell_type": "code",
      "source": [
        "help(dict)"
      ],
      "metadata": {
        "colab": {
          "base_uri": "https://localhost:8080/"
        },
        "id": "rHa0jTOa-OY8",
        "outputId": "3abb55cb-6425-4f58-cd74-c5b8295f5017"
      },
      "execution_count": null,
      "outputs": [
        {
          "output_type": "stream",
          "name": "stdout",
          "text": [
            "Help on class dict in module builtins:\n",
            "\n",
            "class dict(object)\n",
            " |  dict() -> new empty dictionary\n",
            " |  dict(mapping) -> new dictionary initialized from a mapping object's\n",
            " |      (key, value) pairs\n",
            " |  dict(iterable) -> new dictionary initialized as if via:\n",
            " |      d = {}\n",
            " |      for k, v in iterable:\n",
            " |          d[k] = v\n",
            " |  dict(**kwargs) -> new dictionary initialized with the name=value pairs\n",
            " |      in the keyword argument list.  For example:  dict(one=1, two=2)\n",
            " |  \n",
            " |  Built-in subclasses:\n",
            " |      StgDict\n",
            " |  \n",
            " |  Methods defined here:\n",
            " |  \n",
            " |  __contains__(self, key, /)\n",
            " |      True if the dictionary has the specified key, else False.\n",
            " |  \n",
            " |  __delitem__(self, key, /)\n",
            " |      Delete self[key].\n",
            " |  \n",
            " |  __eq__(self, value, /)\n",
            " |      Return self==value.\n",
            " |  \n",
            " |  __ge__(self, value, /)\n",
            " |      Return self>=value.\n",
            " |  \n",
            " |  __getattribute__(self, name, /)\n",
            " |      Return getattr(self, name).\n",
            " |  \n",
            " |  __getitem__(...)\n",
            " |      x.__getitem__(y) <==> x[y]\n",
            " |  \n",
            " |  __gt__(self, value, /)\n",
            " |      Return self>value.\n",
            " |  \n",
            " |  __init__(self, /, *args, **kwargs)\n",
            " |      Initialize self.  See help(type(self)) for accurate signature.\n",
            " |  \n",
            " |  __ior__(self, value, /)\n",
            " |      Return self|=value.\n",
            " |  \n",
            " |  __iter__(self, /)\n",
            " |      Implement iter(self).\n",
            " |  \n",
            " |  __le__(self, value, /)\n",
            " |      Return self<=value.\n",
            " |  \n",
            " |  __len__(self, /)\n",
            " |      Return len(self).\n",
            " |  \n",
            " |  __lt__(self, value, /)\n",
            " |      Return self<value.\n",
            " |  \n",
            " |  __ne__(self, value, /)\n",
            " |      Return self!=value.\n",
            " |  \n",
            " |  __or__(self, value, /)\n",
            " |      Return self|value.\n",
            " |  \n",
            " |  __repr__(self, /)\n",
            " |      Return repr(self).\n",
            " |  \n",
            " |  __reversed__(self, /)\n",
            " |      Return a reverse iterator over the dict keys.\n",
            " |  \n",
            " |  __ror__(self, value, /)\n",
            " |      Return value|self.\n",
            " |  \n",
            " |  __setitem__(self, key, value, /)\n",
            " |      Set self[key] to value.\n",
            " |  \n",
            " |  __sizeof__(...)\n",
            " |      D.__sizeof__() -> size of D in memory, in bytes\n",
            " |  \n",
            " |  clear(...)\n",
            " |      D.clear() -> None.  Remove all items from D.\n",
            " |  \n",
            " |  copy(...)\n",
            " |      D.copy() -> a shallow copy of D\n",
            " |  \n",
            " |  get(self, key, default=None, /)\n",
            " |      Return the value for key if key is in the dictionary, else default.\n",
            " |  \n",
            " |  items(...)\n",
            " |      D.items() -> a set-like object providing a view on D's items\n",
            " |  \n",
            " |  keys(...)\n",
            " |      D.keys() -> a set-like object providing a view on D's keys\n",
            " |  \n",
            " |  pop(...)\n",
            " |      D.pop(k[,d]) -> v, remove specified key and return the corresponding value.\n",
            " |      \n",
            " |      If the key is not found, return the default if given; otherwise,\n",
            " |      raise a KeyError.\n",
            " |  \n",
            " |  popitem(self, /)\n",
            " |      Remove and return a (key, value) pair as a 2-tuple.\n",
            " |      \n",
            " |      Pairs are returned in LIFO (last-in, first-out) order.\n",
            " |      Raises KeyError if the dict is empty.\n",
            " |  \n",
            " |  setdefault(self, key, default=None, /)\n",
            " |      Insert key with a value of default if key is not in the dictionary.\n",
            " |      \n",
            " |      Return the value for key if key is in the dictionary, else default.\n",
            " |  \n",
            " |  update(...)\n",
            " |      D.update([E, ]**F) -> None.  Update D from dict/iterable E and F.\n",
            " |      If E is present and has a .keys() method, then does:  for k in E: D[k] = E[k]\n",
            " |      If E is present and lacks a .keys() method, then does:  for k, v in E: D[k] = v\n",
            " |      In either case, this is followed by: for k in F:  D[k] = F[k]\n",
            " |  \n",
            " |  values(...)\n",
            " |      D.values() -> an object providing a view on D's values\n",
            " |  \n",
            " |  ----------------------------------------------------------------------\n",
            " |  Class methods defined here:\n",
            " |  \n",
            " |  __class_getitem__(...) from builtins.type\n",
            " |      See PEP 585\n",
            " |  \n",
            " |  fromkeys(iterable, value=None, /) from builtins.type\n",
            " |      Create a new dictionary with keys from iterable and values set to value.\n",
            " |  \n",
            " |  ----------------------------------------------------------------------\n",
            " |  Static methods defined here:\n",
            " |  \n",
            " |  __new__(*args, **kwargs) from builtins.type\n",
            " |      Create and return a new object.  See help(type) for accurate signature.\n",
            " |  \n",
            " |  ----------------------------------------------------------------------\n",
            " |  Data and other attributes defined here:\n",
            " |  \n",
            " |  __hash__ = None\n",
            "\n"
          ]
        }
      ]
    },
    {
      "cell_type": "code",
      "source": [
        "toppings = [\"mushroom\", \"cheese\", \"jalapenos\", \"sweet-corn\"]\n",
        "\n",
        "for topping in toppings:\n",
        "  print(topping)\n"
      ],
      "metadata": {
        "colab": {
          "base_uri": "https://localhost:8080/"
        },
        "id": "s5JD7c0k-ynz",
        "outputId": "c3cd4b83-b1b8-4e97-ce1d-aea8201f08df"
      },
      "execution_count": null,
      "outputs": [
        {
          "output_type": "stream",
          "name": "stdout",
          "text": [
            "mushroom\n",
            "cheese\n",
            "jalapenos\n",
            "sweet-corn\n"
          ]
        }
      ]
    },
    {
      "cell_type": "code",
      "source": [
        "toppings[-1]"
      ],
      "metadata": {
        "colab": {
          "base_uri": "https://localhost:8080/",
          "height": 35
        },
        "id": "DLKnz2qsCa25",
        "outputId": "b185d983-7c73-4633-9b2c-4dfe11624a9c"
      },
      "execution_count": null,
      "outputs": [
        {
          "output_type": "execute_result",
          "data": {
            "text/plain": [
              "'sweet-corn'"
            ],
            "application/vnd.google.colaboratory.intrinsic+json": {
              "type": "string"
            }
          },
          "metadata": {},
          "execution_count": 24
        }
      ]
    },
    {
      "cell_type": "code",
      "source": [
        "toppings[-3:]"
      ],
      "metadata": {
        "colab": {
          "base_uri": "https://localhost:8080/"
        },
        "id": "if7McW5nC9pI",
        "outputId": "e2563e46-17da-426b-a06c-365418fae8e8"
      },
      "execution_count": null,
      "outputs": [
        {
          "output_type": "execute_result",
          "data": {
            "text/plain": [
              "['cheese', 'jalapenos', 'sweet-corn']"
            ]
          },
          "metadata": {},
          "execution_count": 35
        }
      ]
    },
    {
      "cell_type": "code",
      "source": [
        "toppings[0:4:2]"
      ],
      "metadata": {
        "colab": {
          "base_uri": "https://localhost:8080/"
        },
        "id": "HBLR_CypDZ5z",
        "outputId": "02d319d4-9263-4423-dc80-7b4490d98d66"
      },
      "execution_count": null,
      "outputs": [
        {
          "output_type": "execute_result",
          "data": {
            "text/plain": [
              "['mushroom', 'jalapenos']"
            ]
          },
          "metadata": {},
          "execution_count": 37
        }
      ]
    },
    {
      "cell_type": "code",
      "source": [
        "len(toppings)"
      ],
      "metadata": {
        "colab": {
          "base_uri": "https://localhost:8080/"
        },
        "id": "-XLaoFrSEBwl",
        "outputId": "c83650dd-cd8c-4728-ac34-879f59594d77"
      },
      "execution_count": null,
      "outputs": [
        {
          "output_type": "execute_result",
          "data": {
            "text/plain": [
              "4"
            ]
          },
          "metadata": {},
          "execution_count": 39
        }
      ]
    },
    {
      "cell_type": "code",
      "source": [
        "numbers = []\n",
        "\n",
        "for i in range(2000):\n",
        "  numbers.append(i)"
      ],
      "metadata": {
        "id": "ee7FlRzbE_aA"
      },
      "execution_count": null,
      "outputs": []
    },
    {
      "cell_type": "code",
      "source": [
        "import numpy as np\n",
        "np.array(numbers[0: 200: 10])"
      ],
      "metadata": {
        "colab": {
          "base_uri": "https://localhost:8080/"
        },
        "id": "9Li2gBgtFTRi",
        "outputId": "c8993a01-d4c2-40c8-e698-219ad90639d0"
      },
      "execution_count": null,
      "outputs": [
        {
          "output_type": "execute_result",
          "data": {
            "text/plain": [
              "array([  0,  10,  20,  30,  40,  50,  60,  70,  80,  90, 100, 110, 120,\n",
              "       130, 140, 150, 160, 170, 180, 190])"
            ]
          },
          "metadata": {},
          "execution_count": 44
        }
      ]
    },
    {
      "cell_type": "code",
      "source": [],
      "metadata": {
        "id": "ivK2jssbFU7M"
      },
      "execution_count": null,
      "outputs": []
    }
  ]
}